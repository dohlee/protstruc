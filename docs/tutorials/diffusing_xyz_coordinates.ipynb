{
 "cells": [
  {
   "cell_type": "markdown",
   "metadata": {},
   "source": [
    "Many diffusion models for protein structure generation require a set of atom coordinates to be diffused with Gaussian noises having a predefined variance schedule, which finally results in a randomized set of coordinates distributed according to 3D Gaussian distribution.\n",
    "This tutorial shows how to use the `StructureBatch` object to generate a set of diffused coordinates. "
   ]
  },
  {
   "cell_type": "code",
   "execution_count": 1,
   "metadata": {},
   "outputs": [
    {
     "name": "stderr",
     "output_type": "stream",
     "text": [
      "/data/project/dohoon/miniconda3/envs/torch12/lib/python3.9/site-packages/tqdm/auto.py:21: TqdmWarning: IProgress not found. Please update jupyter and ipywidgets. See https://ipywidgets.readthedocs.io/en/stable/user_install.html\n",
      "  from .autonotebook import tqdm as notebook_tqdm\n"
     ]
    }
   ],
   "source": [
    "import matplotlib.pyplot as plt\n",
    "import matplotlib.animation as animation\n",
    "import numpy as np\n",
    "import torch\n",
    "\n",
    "import protstruc as ps\n",
    "from protstruc.general import ATOM"
   ]
  },
  {
   "cell_type": "code",
   "execution_count": 2,
   "metadata": {},
   "outputs": [],
   "source": [
    "import math\n",
    "\n",
    "def cosine_variance_schedule(T, s=8e-3, beta_max=0.999):\n",
    "    # cosine variance schedule\n",
    "    # T: total timesteps\n",
    "    # s: small offset to prevent beta from being too small\n",
    "    # beta_max: to prevent singularities at the end of the diffusion process\n",
    "    t = torch.arange(T + 1)  # 0, 1, ..., T\n",
    "\n",
    "    f_t = torch.cos((t / T + s) / (1 + s) * math.pi / 2.0).square()\n",
    "    alpha_bar = f_t / f_t[0]\n",
    "    beta = torch.cat(\n",
    "        [\n",
    "            torch.tensor([0.0]),\n",
    "            torch.clip(1 - alpha_bar[1:] / alpha_bar[:-1], min=1e-5, max=beta_max),\n",
    "        ]\n",
    "    )\n",
    "    alpha = 1 - beta\n",
    "\n",
    "    sched = {\n",
    "        \"alpha\": alpha,\n",
    "        \"alpha_bar\": alpha_bar,\n",
    "        \"alpha_bar_sqrt\": alpha_bar.sqrt(),\n",
    "        \"one_minus_alpha_bar_sqrt\": (1 - alpha_bar).sqrt(),\n",
    "        \"beta\": beta,\n",
    "    }\n",
    "    return sched"
   ]
  },
  {
   "cell_type": "code",
   "execution_count": 3,
   "metadata": {},
   "outputs": [
    {
     "data": {
      "text/plain": [
       "<Figure size 1400x500 with 0 Axes>"
      ]
     },
     "metadata": {},
     "output_type": "display_data"
    }
   ],
   "source": [
    "pdb_id = '4EOT'\n",
    "sb = ps.StructureBatch.from_pdb_id(pdb_id)\n",
    "prt_idx = 0\n",
    "atom_idx = ATOM.CA\n",
    "\n",
    "fig = plt.figure(figsize=(14, 5))\n",
    "ax1 = fig.add_subplot(131, projection='3d')\n",
    "ax2 = fig.add_subplot(132, projection='3d')\n",
    "ax3 = fig.add_subplot(133)\n",
    "\n",
    "sb.standardize()\n",
    "\n",
    "T = 1000\n",
    "sched = cosine_variance_schedule(T=T, s=8e-3, beta_max=0.999)\n",
    "\n",
    "ims = []\n",
    "for t in range(T):\n",
    "    # coordinates of Ca atoms\n",
    "    # xyz = sb.get_xyz().numpy()\n",
    "    xyz = sched['alpha_bar_sqrt'][t] * sb.get_xyz()\n",
    "    bsz, n_res = xyz.shape[:2]\n",
    "\n",
    "    # add random Gaussian noise to the coordinates \n",
    "    xyz += (1 - sched['alpha_bar'][t]) * torch.randn(bsz, n_res, 1, 3)\n",
    "\n",
    "    xyz = xyz.numpy()\n",
    "    ax1.set_title(f't={t}')\n",
    "    im1 = ax1.scatter(\n",
    "        xyz[prt_idx, :, atom_idx, 0],\n",
    "        xyz[prt_idx, :, atom_idx, 1],\n",
    "        xyz[prt_idx, :, atom_idx, 2],\n",
    "        c='C1'\n",
    "    )\n",
    "    ax2.set_title(f't={t}')\n",
    "    im2, = ax2.plot(\n",
    "        xyz[prt_idx, :, atom_idx, 0],\n",
    "        xyz[prt_idx, :, atom_idx, 1],\n",
    "        xyz[prt_idx, :, atom_idx, 2],\n",
    "        c='C1'\n",
    "    )\n",
    "    # histogram of x coordinates\n",
    "    _, _, im3 = ax3.hist(xyz[prt_idx, :, atom_idx, 0], bins=33, fc='C1')\n",
    "\n",
    "    # histogram patches (im3) is already a list, so just concatenate it\n",
    "    ims.append([im1, im2] + list(im3))\n",
    "\n",
    "ani = animation.ArtistAnimation(fig, ims, interval=100, blit=True, repeat_delay=1000)\n",
    "ani.save(f'animations/{pdb_id}_diffusion.gif')\n",
    "\n",
    "plt.clf()  # not showing the results after this cell"
   ]
  },
  {
   "cell_type": "markdown",
   "metadata": {},
   "source": [
    "The animation below shows that the coordinates of Ca atoms gradually reaches to the Gaussian distribution."
   ]
  },
  {
   "cell_type": "markdown",
   "metadata": {},
   "source": [
    "![tmp](/tutorials/animations/4EOT_diffusion.gif)"
   ]
  }
 ],
 "metadata": {
  "kernelspec": {
   "display_name": "torch12",
   "language": "python",
   "name": "python3"
  },
  "language_info": {
   "codemirror_mode": {
    "name": "ipython",
    "version": 3
   },
   "file_extension": ".py",
   "mimetype": "text/x-python",
   "name": "python",
   "nbconvert_exporter": "python",
   "pygments_lexer": "ipython3",
   "version": "3.9.16"
  },
  "orig_nbformat": 4
 },
 "nbformat": 4,
 "nbformat_minor": 2
}
